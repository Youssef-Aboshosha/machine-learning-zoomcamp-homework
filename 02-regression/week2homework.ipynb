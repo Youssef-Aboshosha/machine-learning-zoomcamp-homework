{
 "cells": [
  {
   "cell_type": "code",
   "execution_count": 174,
   "id": "02428bcb",
   "metadata": {},
   "outputs": [],
   "source": [
    "import pandas as pd\n",
    "import numpy as np\n",
    "import seaborn as sns\n",
    "import matplotlib as plt"
   ]
  },
  {
   "cell_type": "code",
   "execution_count": 175,
   "id": "016b5dee",
   "metadata": {},
   "outputs": [
    {
     "data": {
      "application/vnd.microsoft.datawrangler.viewer.v0+json": {
       "columns": [
        {
         "name": "index",
         "rawType": "int64",
         "type": "integer"
        },
        {
         "name": "engine_displacement",
         "rawType": "int64",
         "type": "integer"
        },
        {
         "name": "num_cylinders",
         "rawType": "float64",
         "type": "float"
        },
        {
         "name": "horsepower",
         "rawType": "float64",
         "type": "float"
        },
        {
         "name": "vehicle_weight",
         "rawType": "float64",
         "type": "float"
        },
        {
         "name": "acceleration",
         "rawType": "float64",
         "type": "float"
        },
        {
         "name": "model_year",
         "rawType": "int64",
         "type": "integer"
        },
        {
         "name": "origin",
         "rawType": "object",
         "type": "string"
        },
        {
         "name": "fuel_type",
         "rawType": "object",
         "type": "string"
        },
        {
         "name": "drivetrain",
         "rawType": "object",
         "type": "string"
        },
        {
         "name": "num_doors",
         "rawType": "float64",
         "type": "float"
        },
        {
         "name": "fuel_efficiency_mpg",
         "rawType": "float64",
         "type": "float"
        }
       ],
       "ref": "e0942c80-5690-4205-bbc7-913f2af700a9",
       "rows": [
        [
         "0",
         "170",
         "3.0",
         "159.0",
         "3413.433758606219",
         "17.7",
         "2003",
         "Europe",
         "Gasoline",
         "All-wheel drive",
         "0.0",
         "13.231728906241411"
        ],
        [
         "1",
         "130",
         "5.0",
         "97.0",
         "3149.664934220036",
         "17.8",
         "2007",
         "USA",
         "Gasoline",
         "Front-wheel drive",
         "0.0",
         "13.688217435463793"
        ],
        [
         "2",
         "170",
         null,
         "78.0",
         "3079.03899736884",
         "15.1",
         "2018",
         "Europe",
         "Gasoline",
         "Front-wheel drive",
         "0.0",
         "14.246340998160866"
        ],
        [
         "3",
         "220",
         "4.0",
         null,
         "2542.392401828378",
         "20.2",
         "2009",
         "USA",
         "Diesel",
         "All-wheel drive",
         "2.0",
         "16.91273559598635"
        ],
        [
         "4",
         "210",
         "1.0",
         "140.0",
         "3460.870989989018",
         "14.4",
         "2009",
         "Europe",
         "Gasoline",
         "All-wheel drive",
         "2.0",
         "12.488369121964562"
        ],
        [
         "5",
         "190",
         "3.0",
         null,
         "2484.883986036068",
         "14.7",
         "2008",
         "Europe",
         "Gasoline",
         "All-wheel drive",
         "-1.0",
         "17.271818372724237"
        ],
        [
         "6",
         "240",
         "7.0",
         "127.0",
         "3006.5422872171457",
         "22.2",
         "2012",
         "USA",
         "Gasoline",
         "Front-wheel drive",
         "1.0",
         "13.210412112385608"
        ],
        [
         "7",
         "150",
         "4.0",
         "239.0",
         "3638.6577802809",
         "17.3",
         "2020",
         "USA",
         "Diesel",
         "All-wheel drive",
         "1.0",
         "12.848883861524026"
        ],
        [
         "8",
         "250",
         "1.0",
         "174.0",
         "2714.219309645285",
         "10.3",
         "2016",
         "Asia",
         "Diesel",
         "Front-wheel drive",
         "-1.0",
         "16.823553726916543"
        ],
        [
         "9",
         "150",
         "4.0",
         "123.0",
         "3509.036569100613",
         "10.2",
         "2005",
         "USA",
         "Gasoline",
         "Front-wheel drive",
         "-1.0",
         "12.298354983681604"
        ],
        [
         "10",
         "230",
         "5.0",
         "100.0",
         "3111.810181389172",
         "15.4",
         "2014",
         "Europe",
         "Diesel",
         "All-wheel drive",
         "0.0",
         "13.386605047290962"
        ],
        [
         "11",
         "150",
         "5.0",
         null,
         "1967.2004212521003",
         "12.6",
         "2014",
         "USA",
         "Diesel",
         "Front-wheel drive",
         "2.0",
         "20.50444671989053"
        ],
        [
         "12",
         "320",
         "5.0",
         "145.0",
         "2783.8689742437728",
         "15.1",
         "2010",
         "Asia",
         "Diesel",
         "All-wheel drive",
         "1.0",
         "16.17581958009284"
        ],
        [
         "13",
         "170",
         "1.0",
         "193.0",
         "2274.7351905647565",
         "17.5",
         "2000",
         "Europe",
         "Diesel",
         "Front-wheel drive",
         "0.0",
         "18.792742345719034"
        ],
        [
         "14",
         "200",
         "6.0",
         "160.0",
         "3582.687367715132",
         "14.9",
         "2007",
         "Asia",
         "Diesel",
         "All-wheel drive",
         "0.0",
         "11.871091010445811"
        ],
        [
         "15",
         "220",
         "4.0",
         "179.0",
         "2631.0652035914763",
         "16.0",
         "2006",
         "USA",
         "Gasoline",
         "All-wheel drive",
         "1.0",
         "16.756081170464494"
        ],
        [
         "16",
         "160",
         "3.0",
         "180.0",
         "2673.5529409560954",
         "8.5",
         "2013",
         "Europe",
         "Diesel",
         "All-wheel drive",
         "-1.0",
         "17.516175727210882"
        ],
        [
         "17",
         "190",
         "6.0",
         "132.0",
         "2427.3118562098525",
         "17.8",
         "2011",
         "USA",
         "Diesel",
         "Front-wheel drive",
         "-1.0",
         "17.65868533963579"
        ],
        [
         "18",
         "250",
         "2.0",
         "110.0",
         "2971.2145745989487",
         null,
         "2003",
         "Europe",
         "Gasoline",
         "Front-wheel drive",
         "1.0",
         "14.735962194497768"
        ],
        [
         "19",
         "180",
         "1.0",
         "126.0",
         "2986.958657420011",
         "17.9",
         "2004",
         "Europe",
         "Gasoline",
         "All-wheel drive",
         "-1.0",
         "15.097137105104313"
        ],
        [
         "20",
         "150",
         "3.0",
         "197.0",
         "2231.8081416029345",
         "18.7",
         "2011",
         "Asia",
         "Gasoline",
         "Front-wheel drive",
         "1.0",
         "18.88908257097108"
        ],
        [
         "21",
         "160",
         "4.0",
         "133.0",
         "2659.431450757995",
         null,
         "2016",
         "Asia",
         "Gasoline",
         "Front-wheel drive",
         "-1.0",
         "16.077730214491176"
        ],
        [
         "22",
         "190",
         "1.0",
         "144.0",
         "2438.842125555246",
         "16.4",
         "2016",
         "Europe",
         "Diesel",
         "Front-wheel drive",
         "1.0",
         "17.08040493384839"
        ],
        [
         "23",
         "230",
         "2.0",
         "160.0",
         "3342.6060274901347",
         "12.9",
         "2009",
         "Europe",
         "Gasoline",
         "All-wheel drive",
         "0.0",
         "13.7383805846665"
        ],
        [
         "24",
         "260",
         "3.0",
         "156.0",
         "4267.390497388771",
         "20.0",
         "2004",
         "USA",
         "Diesel",
         "Front-wheel drive",
         "1.0",
         "7.853194329416397"
        ],
        [
         "25",
         "210",
         "6.0",
         "157.0",
         "2860.206191293806",
         "12.6",
         "2013",
         "USA",
         "Gasoline",
         "All-wheel drive",
         null,
         "15.906421807842523"
        ],
        [
         "26",
         "180",
         "8.0",
         "160.0",
         "3080.170161717871",
         "10.6",
         "2002",
         "USA",
         "Diesel",
         "All-wheel drive",
         "2.0",
         "15.089880004688071"
        ],
        [
         "27",
         "120",
         "6.0",
         "206.0",
         "3467.355490131792",
         "18.3",
         "2016",
         "USA",
         "Gasoline",
         "Front-wheel drive",
         "-1.0",
         "13.04899290040456"
        ],
        [
         "28",
         "220",
         "4.0",
         "154.0",
         "3335.0681874881448",
         "14.8",
         "2005",
         "USA",
         "Diesel",
         "All-wheel drive",
         "-1.0",
         "13.411265956371402"
        ],
        [
         "29",
         "230",
         "4.0",
         "132.0",
         "2479.7829741497544",
         "15.6",
         "2014",
         "Europe",
         "Diesel",
         "All-wheel drive",
         "0.0",
         "17.34901126810939"
        ],
        [
         "30",
         "280",
         "5.0",
         "140.0",
         "2598.598215530185",
         "17.1",
         "2022",
         "USA",
         "Gasoline",
         "Front-wheel drive",
         "0.0",
         "16.852517863788954"
        ],
        [
         "31",
         "160",
         "4.0",
         "153.0",
         "3106.306111675653",
         "15.8",
         "2000",
         "Europe",
         "Gasoline",
         "All-wheel drive",
         "-1.0",
         "14.04564452468013"
        ],
        [
         "32",
         "40",
         "5.0",
         "136.0",
         "3619.370730176663",
         "19.5",
         "2017",
         "Europe",
         "Gasoline",
         "All-wheel drive",
         "-1.0",
         "11.02937073424243"
        ],
        [
         "33",
         "200",
         "4.0",
         "168.0",
         "2946.9791685788814",
         "18.6",
         "2001",
         "USA",
         "Diesel",
         "Front-wheel drive",
         "0.0",
         "15.76758556294088"
        ],
        [
         "34",
         "150",
         "2.0",
         "149.0",
         "2844.2275338857653",
         "17.3",
         "2014",
         "Asia",
         "Diesel",
         "Front-wheel drive",
         "0.0",
         "15.353788201522017"
        ],
        [
         "35",
         "160",
         "3.0",
         "127.0",
         "2961.158679125447",
         "14.8",
         "2004",
         "USA",
         "Gasoline",
         "Front-wheel drive",
         "0.0",
         "14.671771671571785"
        ],
        [
         "36",
         "200",
         "5.0",
         "143.0",
         "3040.2365213942894",
         "14.2",
         "2006",
         "USA",
         "Diesel",
         "All-wheel drive",
         "-1.0",
         "15.01132504011616"
        ],
        [
         "37",
         "80",
         "3.0",
         "132.0",
         "3444.8921095893515",
         "17.2",
         "2023",
         "Europe",
         "Gasoline",
         "Front-wheel drive",
         "-1.0",
         "11.704658142342613"
        ],
        [
         "38",
         "190",
         "5.0",
         "158.0",
         "3761.9940381922206",
         null,
         "2019",
         "Asia",
         "Gasoline",
         "Front-wheel drive",
         "1.0",
         "11.645724047561528"
        ],
        [
         "39",
         "240",
         "6.0",
         "176.0",
         "2676.886843633655",
         "14.5",
         "2002",
         "Europe",
         "Gasoline",
         "Front-wheel drive",
         "-1.0",
         "17.322851581349216"
        ],
        [
         "40",
         "110",
         "1.0",
         "108.0",
         "2292.675257052191",
         "14.5",
         "2015",
         "Europe",
         "Gasoline",
         "Front-wheel drive",
         "0.0",
         "18.63000885913826"
        ],
        [
         "41",
         "230",
         "2.0",
         "125.0",
         "2563.9027023821623",
         "18.1",
         "2008",
         "Europe",
         "Gasoline",
         "All-wheel drive",
         "0.0",
         "16.890273538222665"
        ],
        [
         "42",
         "240",
         "4.0",
         "123.0",
         "2612.0154112627533",
         "10.5",
         "2013",
         "USA",
         "Diesel",
         "Front-wheel drive",
         "-1.0",
         "16.416020840488873"
        ],
        [
         "43",
         "170",
         "4.0",
         "123.0",
         "2957.6811098887447",
         "14.4",
         "2012",
         "Asia",
         "Diesel",
         "All-wheel drive",
         "-1.0",
         "15.039796931634644"
        ],
        [
         "44",
         "240",
         "2.0",
         "142.0",
         "2544.516801769428",
         "12.9",
         "2016",
         "Asia",
         "Gasoline",
         "All-wheel drive",
         "0.0",
         "17.600327865900464"
        ],
        [
         "45",
         "380",
         null,
         "139.0",
         "1833.1964030710933",
         "16.7",
         "2022",
         "USA",
         "Gasoline",
         "Front-wheel drive",
         "-1.0",
         "20.728616942029674"
        ],
        [
         "46",
         "190",
         "4.0",
         "170.0",
         "2607.6950038058926",
         "20.8",
         "2019",
         "USA",
         "Diesel",
         "Front-wheel drive",
         "1.0",
         "15.932777017483826"
        ],
        [
         "47",
         "270",
         "1.0",
         "135.0",
         "3858.9146336751146",
         null,
         "2006",
         "Europe",
         "Gasoline",
         "Front-wheel drive",
         "2.0",
         "10.0898180828745"
        ],
        [
         "48",
         "190",
         "5.0",
         "202.0",
         "2531.185247040718",
         "16.2",
         "2016",
         "Asia",
         "Gasoline",
         "All-wheel drive",
         "0.0",
         "17.983505227568678"
        ],
        [
         "49",
         "140",
         "7.0",
         "99.0",
         "3602.664482911108",
         "17.0",
         "2015",
         "Europe",
         "Gasoline",
         "All-wheel drive",
         "1.0",
         "11.25726765887053"
        ]
       ],
       "shape": {
        "columns": 11,
        "rows": 9704
       }
      },
      "text/html": [
       "<div>\n",
       "<style scoped>\n",
       "    .dataframe tbody tr th:only-of-type {\n",
       "        vertical-align: middle;\n",
       "    }\n",
       "\n",
       "    .dataframe tbody tr th {\n",
       "        vertical-align: top;\n",
       "    }\n",
       "\n",
       "    .dataframe thead th {\n",
       "        text-align: right;\n",
       "    }\n",
       "</style>\n",
       "<table border=\"1\" class=\"dataframe\">\n",
       "  <thead>\n",
       "    <tr style=\"text-align: right;\">\n",
       "      <th></th>\n",
       "      <th>engine_displacement</th>\n",
       "      <th>num_cylinders</th>\n",
       "      <th>horsepower</th>\n",
       "      <th>vehicle_weight</th>\n",
       "      <th>acceleration</th>\n",
       "      <th>model_year</th>\n",
       "      <th>origin</th>\n",
       "      <th>fuel_type</th>\n",
       "      <th>drivetrain</th>\n",
       "      <th>num_doors</th>\n",
       "      <th>fuel_efficiency_mpg</th>\n",
       "    </tr>\n",
       "  </thead>\n",
       "  <tbody>\n",
       "    <tr>\n",
       "      <th>0</th>\n",
       "      <td>170</td>\n",
       "      <td>3.0</td>\n",
       "      <td>159.0</td>\n",
       "      <td>3413.433759</td>\n",
       "      <td>17.7</td>\n",
       "      <td>2003</td>\n",
       "      <td>Europe</td>\n",
       "      <td>Gasoline</td>\n",
       "      <td>All-wheel drive</td>\n",
       "      <td>0.0</td>\n",
       "      <td>13.231729</td>\n",
       "    </tr>\n",
       "    <tr>\n",
       "      <th>1</th>\n",
       "      <td>130</td>\n",
       "      <td>5.0</td>\n",
       "      <td>97.0</td>\n",
       "      <td>3149.664934</td>\n",
       "      <td>17.8</td>\n",
       "      <td>2007</td>\n",
       "      <td>USA</td>\n",
       "      <td>Gasoline</td>\n",
       "      <td>Front-wheel drive</td>\n",
       "      <td>0.0</td>\n",
       "      <td>13.688217</td>\n",
       "    </tr>\n",
       "    <tr>\n",
       "      <th>2</th>\n",
       "      <td>170</td>\n",
       "      <td>NaN</td>\n",
       "      <td>78.0</td>\n",
       "      <td>3079.038997</td>\n",
       "      <td>15.1</td>\n",
       "      <td>2018</td>\n",
       "      <td>Europe</td>\n",
       "      <td>Gasoline</td>\n",
       "      <td>Front-wheel drive</td>\n",
       "      <td>0.0</td>\n",
       "      <td>14.246341</td>\n",
       "    </tr>\n",
       "    <tr>\n",
       "      <th>3</th>\n",
       "      <td>220</td>\n",
       "      <td>4.0</td>\n",
       "      <td>NaN</td>\n",
       "      <td>2542.392402</td>\n",
       "      <td>20.2</td>\n",
       "      <td>2009</td>\n",
       "      <td>USA</td>\n",
       "      <td>Diesel</td>\n",
       "      <td>All-wheel drive</td>\n",
       "      <td>2.0</td>\n",
       "      <td>16.912736</td>\n",
       "    </tr>\n",
       "    <tr>\n",
       "      <th>4</th>\n",
       "      <td>210</td>\n",
       "      <td>1.0</td>\n",
       "      <td>140.0</td>\n",
       "      <td>3460.870990</td>\n",
       "      <td>14.4</td>\n",
       "      <td>2009</td>\n",
       "      <td>Europe</td>\n",
       "      <td>Gasoline</td>\n",
       "      <td>All-wheel drive</td>\n",
       "      <td>2.0</td>\n",
       "      <td>12.488369</td>\n",
       "    </tr>\n",
       "    <tr>\n",
       "      <th>...</th>\n",
       "      <td>...</td>\n",
       "      <td>...</td>\n",
       "      <td>...</td>\n",
       "      <td>...</td>\n",
       "      <td>...</td>\n",
       "      <td>...</td>\n",
       "      <td>...</td>\n",
       "      <td>...</td>\n",
       "      <td>...</td>\n",
       "      <td>...</td>\n",
       "      <td>...</td>\n",
       "    </tr>\n",
       "    <tr>\n",
       "      <th>9699</th>\n",
       "      <td>140</td>\n",
       "      <td>5.0</td>\n",
       "      <td>164.0</td>\n",
       "      <td>2981.107371</td>\n",
       "      <td>17.3</td>\n",
       "      <td>2013</td>\n",
       "      <td>Europe</td>\n",
       "      <td>Diesel</td>\n",
       "      <td>Front-wheel drive</td>\n",
       "      <td>NaN</td>\n",
       "      <td>15.101802</td>\n",
       "    </tr>\n",
       "    <tr>\n",
       "      <th>9700</th>\n",
       "      <td>180</td>\n",
       "      <td>NaN</td>\n",
       "      <td>154.0</td>\n",
       "      <td>2439.525729</td>\n",
       "      <td>15.0</td>\n",
       "      <td>2004</td>\n",
       "      <td>USA</td>\n",
       "      <td>Gasoline</td>\n",
       "      <td>All-wheel drive</td>\n",
       "      <td>0.0</td>\n",
       "      <td>17.962326</td>\n",
       "    </tr>\n",
       "    <tr>\n",
       "      <th>9701</th>\n",
       "      <td>220</td>\n",
       "      <td>2.0</td>\n",
       "      <td>138.0</td>\n",
       "      <td>2583.471318</td>\n",
       "      <td>15.1</td>\n",
       "      <td>2008</td>\n",
       "      <td>USA</td>\n",
       "      <td>Diesel</td>\n",
       "      <td>All-wheel drive</td>\n",
       "      <td>-1.0</td>\n",
       "      <td>17.186587</td>\n",
       "    </tr>\n",
       "    <tr>\n",
       "      <th>9702</th>\n",
       "      <td>230</td>\n",
       "      <td>4.0</td>\n",
       "      <td>177.0</td>\n",
       "      <td>2905.527390</td>\n",
       "      <td>19.4</td>\n",
       "      <td>2011</td>\n",
       "      <td>USA</td>\n",
       "      <td>Diesel</td>\n",
       "      <td>Front-wheel drive</td>\n",
       "      <td>1.0</td>\n",
       "      <td>15.331551</td>\n",
       "    </tr>\n",
       "    <tr>\n",
       "      <th>9703</th>\n",
       "      <td>270</td>\n",
       "      <td>3.0</td>\n",
       "      <td>140.0</td>\n",
       "      <td>2908.043477</td>\n",
       "      <td>14.7</td>\n",
       "      <td>2005</td>\n",
       "      <td>Asia</td>\n",
       "      <td>Diesel</td>\n",
       "      <td>All-wheel drive</td>\n",
       "      <td>-1.0</td>\n",
       "      <td>14.884467</td>\n",
       "    </tr>\n",
       "  </tbody>\n",
       "</table>\n",
       "<p>9704 rows × 11 columns</p>\n",
       "</div>"
      ],
      "text/plain": [
       "      engine_displacement  num_cylinders  horsepower  vehicle_weight  \\\n",
       "0                     170            3.0       159.0     3413.433759   \n",
       "1                     130            5.0        97.0     3149.664934   \n",
       "2                     170            NaN        78.0     3079.038997   \n",
       "3                     220            4.0         NaN     2542.392402   \n",
       "4                     210            1.0       140.0     3460.870990   \n",
       "...                   ...            ...         ...             ...   \n",
       "9699                  140            5.0       164.0     2981.107371   \n",
       "9700                  180            NaN       154.0     2439.525729   \n",
       "9701                  220            2.0       138.0     2583.471318   \n",
       "9702                  230            4.0       177.0     2905.527390   \n",
       "9703                  270            3.0       140.0     2908.043477   \n",
       "\n",
       "      acceleration  model_year  origin fuel_type         drivetrain  \\\n",
       "0             17.7        2003  Europe  Gasoline    All-wheel drive   \n",
       "1             17.8        2007     USA  Gasoline  Front-wheel drive   \n",
       "2             15.1        2018  Europe  Gasoline  Front-wheel drive   \n",
       "3             20.2        2009     USA    Diesel    All-wheel drive   \n",
       "4             14.4        2009  Europe  Gasoline    All-wheel drive   \n",
       "...            ...         ...     ...       ...                ...   \n",
       "9699          17.3        2013  Europe    Diesel  Front-wheel drive   \n",
       "9700          15.0        2004     USA  Gasoline    All-wheel drive   \n",
       "9701          15.1        2008     USA    Diesel    All-wheel drive   \n",
       "9702          19.4        2011     USA    Diesel  Front-wheel drive   \n",
       "9703          14.7        2005    Asia    Diesel    All-wheel drive   \n",
       "\n",
       "      num_doors  fuel_efficiency_mpg  \n",
       "0           0.0            13.231729  \n",
       "1           0.0            13.688217  \n",
       "2           0.0            14.246341  \n",
       "3           2.0            16.912736  \n",
       "4           2.0            12.488369  \n",
       "...         ...                  ...  \n",
       "9699        NaN            15.101802  \n",
       "9700        0.0            17.962326  \n",
       "9701       -1.0            17.186587  \n",
       "9702        1.0            15.331551  \n",
       "9703       -1.0            14.884467  \n",
       "\n",
       "[9704 rows x 11 columns]"
      ]
     },
     "execution_count": 175,
     "metadata": {},
     "output_type": "execute_result"
    }
   ],
   "source": [
    "df = pd.read_csv('https://raw.githubusercontent.com/alexeygrigorev/datasets/master/car_fuel_efficiency.csv')\n",
    "df"
   ]
  },
  {
   "cell_type": "markdown",
   "id": "2849328e",
   "metadata": {},
   "source": [
    "#### The goal of this homework is to create a regression model for predicting the car fuel efficiency (column 'fuel_efficiency_mpg').\n",
    "\n"
   ]
  },
  {
   "cell_type": "code",
   "execution_count": 176,
   "id": "0ec5d707",
   "metadata": {},
   "outputs": [],
   "source": [
    "# we only need 5 col\n",
    "df = df[['engine_displacement', 'horsepower', 'vehicle_weight','model_year','fuel_efficiency_mpg']]"
   ]
  },
  {
   "cell_type": "code",
   "execution_count": 177,
   "id": "47bda9bc",
   "metadata": {},
   "outputs": [
    {
     "data": {
      "application/vnd.microsoft.datawrangler.viewer.v0+json": {
       "columns": [
        {
         "name": "index",
         "rawType": "int64",
         "type": "integer"
        },
        {
         "name": "engine_displacement",
         "rawType": "int64",
         "type": "integer"
        },
        {
         "name": "horsepower",
         "rawType": "float64",
         "type": "float"
        },
        {
         "name": "vehicle_weight",
         "rawType": "float64",
         "type": "float"
        },
        {
         "name": "model_year",
         "rawType": "int64",
         "type": "integer"
        },
        {
         "name": "fuel_efficiency_mpg",
         "rawType": "float64",
         "type": "float"
        }
       ],
       "ref": "194386da-dfcc-48ad-8114-9df0b865ec8b",
       "rows": [
        [
         "0",
         "170",
         "159.0",
         "3413.433758606219",
         "2003",
         "13.231728906241411"
        ],
        [
         "1",
         "130",
         "97.0",
         "3149.664934220036",
         "2007",
         "13.688217435463793"
        ],
        [
         "2",
         "170",
         "78.0",
         "3079.03899736884",
         "2018",
         "14.246340998160866"
        ],
        [
         "3",
         "220",
         null,
         "2542.392401828378",
         "2009",
         "16.91273559598635"
        ],
        [
         "4",
         "210",
         "140.0",
         "3460.870989989018",
         "2009",
         "12.488369121964562"
        ],
        [
         "5",
         "190",
         null,
         "2484.883986036068",
         "2008",
         "17.271818372724237"
        ],
        [
         "6",
         "240",
         "127.0",
         "3006.5422872171457",
         "2012",
         "13.210412112385608"
        ],
        [
         "7",
         "150",
         "239.0",
         "3638.6577802809",
         "2020",
         "12.848883861524026"
        ],
        [
         "8",
         "250",
         "174.0",
         "2714.219309645285",
         "2016",
         "16.823553726916543"
        ],
        [
         "9",
         "150",
         "123.0",
         "3509.036569100613",
         "2005",
         "12.298354983681604"
        ],
        [
         "10",
         "230",
         "100.0",
         "3111.810181389172",
         "2014",
         "13.386605047290962"
        ],
        [
         "11",
         "150",
         null,
         "1967.2004212521003",
         "2014",
         "20.50444671989053"
        ],
        [
         "12",
         "320",
         "145.0",
         "2783.8689742437728",
         "2010",
         "16.17581958009284"
        ],
        [
         "13",
         "170",
         "193.0",
         "2274.7351905647565",
         "2000",
         "18.792742345719034"
        ],
        [
         "14",
         "200",
         "160.0",
         "3582.687367715132",
         "2007",
         "11.871091010445811"
        ],
        [
         "15",
         "220",
         "179.0",
         "2631.0652035914763",
         "2006",
         "16.756081170464494"
        ],
        [
         "16",
         "160",
         "180.0",
         "2673.5529409560954",
         "2013",
         "17.516175727210882"
        ],
        [
         "17",
         "190",
         "132.0",
         "2427.3118562098525",
         "2011",
         "17.65868533963579"
        ],
        [
         "18",
         "250",
         "110.0",
         "2971.2145745989487",
         "2003",
         "14.735962194497768"
        ],
        [
         "19",
         "180",
         "126.0",
         "2986.958657420011",
         "2004",
         "15.097137105104313"
        ],
        [
         "20",
         "150",
         "197.0",
         "2231.8081416029345",
         "2011",
         "18.88908257097108"
        ],
        [
         "21",
         "160",
         "133.0",
         "2659.431450757995",
         "2016",
         "16.077730214491176"
        ],
        [
         "22",
         "190",
         "144.0",
         "2438.842125555246",
         "2016",
         "17.08040493384839"
        ],
        [
         "23",
         "230",
         "160.0",
         "3342.6060274901347",
         "2009",
         "13.7383805846665"
        ],
        [
         "24",
         "260",
         "156.0",
         "4267.390497388771",
         "2004",
         "7.853194329416397"
        ],
        [
         "25",
         "210",
         "157.0",
         "2860.206191293806",
         "2013",
         "15.906421807842523"
        ],
        [
         "26",
         "180",
         "160.0",
         "3080.170161717871",
         "2002",
         "15.089880004688071"
        ],
        [
         "27",
         "120",
         "206.0",
         "3467.355490131792",
         "2016",
         "13.04899290040456"
        ],
        [
         "28",
         "220",
         "154.0",
         "3335.0681874881448",
         "2005",
         "13.411265956371402"
        ],
        [
         "29",
         "230",
         "132.0",
         "2479.7829741497544",
         "2014",
         "17.34901126810939"
        ],
        [
         "30",
         "280",
         "140.0",
         "2598.598215530185",
         "2022",
         "16.852517863788954"
        ],
        [
         "31",
         "160",
         "153.0",
         "3106.306111675653",
         "2000",
         "14.04564452468013"
        ],
        [
         "32",
         "40",
         "136.0",
         "3619.370730176663",
         "2017",
         "11.02937073424243"
        ],
        [
         "33",
         "200",
         "168.0",
         "2946.9791685788814",
         "2001",
         "15.76758556294088"
        ],
        [
         "34",
         "150",
         "149.0",
         "2844.2275338857653",
         "2014",
         "15.353788201522017"
        ],
        [
         "35",
         "160",
         "127.0",
         "2961.158679125447",
         "2004",
         "14.671771671571785"
        ],
        [
         "36",
         "200",
         "143.0",
         "3040.2365213942894",
         "2006",
         "15.01132504011616"
        ],
        [
         "37",
         "80",
         "132.0",
         "3444.8921095893515",
         "2023",
         "11.704658142342613"
        ],
        [
         "38",
         "190",
         "158.0",
         "3761.9940381922206",
         "2019",
         "11.645724047561528"
        ],
        [
         "39",
         "240",
         "176.0",
         "2676.886843633655",
         "2002",
         "17.322851581349216"
        ],
        [
         "40",
         "110",
         "108.0",
         "2292.675257052191",
         "2015",
         "18.63000885913826"
        ],
        [
         "41",
         "230",
         "125.0",
         "2563.9027023821623",
         "2008",
         "16.890273538222665"
        ],
        [
         "42",
         "240",
         "123.0",
         "2612.0154112627533",
         "2013",
         "16.416020840488873"
        ],
        [
         "43",
         "170",
         "123.0",
         "2957.6811098887447",
         "2012",
         "15.039796931634644"
        ],
        [
         "44",
         "240",
         "142.0",
         "2544.516801769428",
         "2016",
         "17.600327865900464"
        ],
        [
         "45",
         "380",
         "139.0",
         "1833.1964030710933",
         "2022",
         "20.728616942029674"
        ],
        [
         "46",
         "190",
         "170.0",
         "2607.6950038058926",
         "2019",
         "15.932777017483826"
        ],
        [
         "47",
         "270",
         "135.0",
         "3858.9146336751146",
         "2006",
         "10.0898180828745"
        ],
        [
         "48",
         "190",
         "202.0",
         "2531.185247040718",
         "2016",
         "17.983505227568678"
        ],
        [
         "49",
         "140",
         "99.0",
         "3602.664482911108",
         "2015",
         "11.25726765887053"
        ]
       ],
       "shape": {
        "columns": 5,
        "rows": 9704
       }
      },
      "text/html": [
       "<div>\n",
       "<style scoped>\n",
       "    .dataframe tbody tr th:only-of-type {\n",
       "        vertical-align: middle;\n",
       "    }\n",
       "\n",
       "    .dataframe tbody tr th {\n",
       "        vertical-align: top;\n",
       "    }\n",
       "\n",
       "    .dataframe thead th {\n",
       "        text-align: right;\n",
       "    }\n",
       "</style>\n",
       "<table border=\"1\" class=\"dataframe\">\n",
       "  <thead>\n",
       "    <tr style=\"text-align: right;\">\n",
       "      <th></th>\n",
       "      <th>engine_displacement</th>\n",
       "      <th>horsepower</th>\n",
       "      <th>vehicle_weight</th>\n",
       "      <th>model_year</th>\n",
       "      <th>fuel_efficiency_mpg</th>\n",
       "    </tr>\n",
       "  </thead>\n",
       "  <tbody>\n",
       "    <tr>\n",
       "      <th>0</th>\n",
       "      <td>170</td>\n",
       "      <td>159.0</td>\n",
       "      <td>3413.433759</td>\n",
       "      <td>2003</td>\n",
       "      <td>13.231729</td>\n",
       "    </tr>\n",
       "    <tr>\n",
       "      <th>1</th>\n",
       "      <td>130</td>\n",
       "      <td>97.0</td>\n",
       "      <td>3149.664934</td>\n",
       "      <td>2007</td>\n",
       "      <td>13.688217</td>\n",
       "    </tr>\n",
       "    <tr>\n",
       "      <th>2</th>\n",
       "      <td>170</td>\n",
       "      <td>78.0</td>\n",
       "      <td>3079.038997</td>\n",
       "      <td>2018</td>\n",
       "      <td>14.246341</td>\n",
       "    </tr>\n",
       "    <tr>\n",
       "      <th>3</th>\n",
       "      <td>220</td>\n",
       "      <td>NaN</td>\n",
       "      <td>2542.392402</td>\n",
       "      <td>2009</td>\n",
       "      <td>16.912736</td>\n",
       "    </tr>\n",
       "    <tr>\n",
       "      <th>4</th>\n",
       "      <td>210</td>\n",
       "      <td>140.0</td>\n",
       "      <td>3460.870990</td>\n",
       "      <td>2009</td>\n",
       "      <td>12.488369</td>\n",
       "    </tr>\n",
       "    <tr>\n",
       "      <th>...</th>\n",
       "      <td>...</td>\n",
       "      <td>...</td>\n",
       "      <td>...</td>\n",
       "      <td>...</td>\n",
       "      <td>...</td>\n",
       "    </tr>\n",
       "    <tr>\n",
       "      <th>9699</th>\n",
       "      <td>140</td>\n",
       "      <td>164.0</td>\n",
       "      <td>2981.107371</td>\n",
       "      <td>2013</td>\n",
       "      <td>15.101802</td>\n",
       "    </tr>\n",
       "    <tr>\n",
       "      <th>9700</th>\n",
       "      <td>180</td>\n",
       "      <td>154.0</td>\n",
       "      <td>2439.525729</td>\n",
       "      <td>2004</td>\n",
       "      <td>17.962326</td>\n",
       "    </tr>\n",
       "    <tr>\n",
       "      <th>9701</th>\n",
       "      <td>220</td>\n",
       "      <td>138.0</td>\n",
       "      <td>2583.471318</td>\n",
       "      <td>2008</td>\n",
       "      <td>17.186587</td>\n",
       "    </tr>\n",
       "    <tr>\n",
       "      <th>9702</th>\n",
       "      <td>230</td>\n",
       "      <td>177.0</td>\n",
       "      <td>2905.527390</td>\n",
       "      <td>2011</td>\n",
       "      <td>15.331551</td>\n",
       "    </tr>\n",
       "    <tr>\n",
       "      <th>9703</th>\n",
       "      <td>270</td>\n",
       "      <td>140.0</td>\n",
       "      <td>2908.043477</td>\n",
       "      <td>2005</td>\n",
       "      <td>14.884467</td>\n",
       "    </tr>\n",
       "  </tbody>\n",
       "</table>\n",
       "<p>9704 rows × 5 columns</p>\n",
       "</div>"
      ],
      "text/plain": [
       "      engine_displacement  horsepower  vehicle_weight  model_year  \\\n",
       "0                     170       159.0     3413.433759        2003   \n",
       "1                     130        97.0     3149.664934        2007   \n",
       "2                     170        78.0     3079.038997        2018   \n",
       "3                     220         NaN     2542.392402        2009   \n",
       "4                     210       140.0     3460.870990        2009   \n",
       "...                   ...         ...             ...         ...   \n",
       "9699                  140       164.0     2981.107371        2013   \n",
       "9700                  180       154.0     2439.525729        2004   \n",
       "9701                  220       138.0     2583.471318        2008   \n",
       "9702                  230       177.0     2905.527390        2011   \n",
       "9703                  270       140.0     2908.043477        2005   \n",
       "\n",
       "      fuel_efficiency_mpg  \n",
       "0               13.231729  \n",
       "1               13.688217  \n",
       "2               14.246341  \n",
       "3               16.912736  \n",
       "4               12.488369  \n",
       "...                   ...  \n",
       "9699            15.101802  \n",
       "9700            17.962326  \n",
       "9701            17.186587  \n",
       "9702            15.331551  \n",
       "9703            14.884467  \n",
       "\n",
       "[9704 rows x 5 columns]"
      ]
     },
     "execution_count": 177,
     "metadata": {},
     "output_type": "execute_result"
    }
   ],
   "source": [
    "df"
   ]
  },
  {
   "cell_type": "code",
   "execution_count": 178,
   "id": "6315addf",
   "metadata": {},
   "outputs": [
    {
     "data": {
      "text/plain": [
       "<Axes: xlabel='fuel_efficiency_mpg', ylabel='Count'>"
      ]
     },
     "execution_count": 178,
     "metadata": {},
     "output_type": "execute_result"
    },
    {
     "data": {
      "image/png": "[encoded data removed]",
      "text/plain": [
       "<Figure size 640x480 with 1 Axes>"
      ]
     },
     "metadata": {},
     "output_type": "display_data"
    }
   ],
   "source": [
    "sns.histplot(df.fuel_efficiency_mpg, bins=50)"
   ]
  },
  {
   "cell_type": "code",
   "execution_count": 179,
   "id": "4871d793",
   "metadata": {},
   "outputs": [
    {
     "data": {
      "text/plain": [
       "<Axes: xlabel='horsepower', ylabel='Count'>"
      ]
     },
     "execution_count": 179,
     "metadata": {},
     "output_type": "execute_result"
    },
    {
     "data": {
      "image/png": "[encoded data removed]",
      "text/plain": [
       "<Figure size 640x480 with 1 Axes>"
      ]
     },
     "metadata": {},
     "output_type": "display_data"
    }
   ],
   "source": [
    "sns.histplot(df.horsepower, bins=50)"
   ]
  },
  {
   "cell_type": "markdown",
   "id": "1ff126ba",
   "metadata": {},
   "source": [
    "### Look at the fuel_efficiency_mpg variable. Does it have a long tail?\n",
    "#### Observation: The distribution of fuel_efficiency_mpg is a normal-like distribution (bell-shaped)\n",
    "#### and does not exhibit a long tail. The values are mostly centered around the mean."
   ]
  },
  {
   "cell_type": "markdown",
   "id": "01b5d209",
   "metadata": {},
   "source": [
    "# Question 1\n",
    "#### There's one column with missing values. What is it?"
   ]
  },
  {
   "cell_type": "code",
   "execution_count": 180,
   "id": "18047835",
   "metadata": {},
   "outputs": [
    {
     "data": {
      "application/vnd.microsoft.datawrangler.viewer.v0+json": {
       "columns": [
        {
         "name": "index",
         "rawType": "object",
         "type": "string"
        },
        {
         "name": "0",
         "rawType": "int64",
         "type": "integer"
        }
       ],
       "ref": "7b0e0f7b-8237-48ba-a62f-2951fdf88eb0",
       "rows": [
        [
         "engine_displacement",
         "0"
        ],
        [
         "horsepower",
         "708"
        ],
        [
         "vehicle_weight",
         "0"
        ],
        [
         "model_year",
         "0"
        ],
        [
         "fuel_efficiency_mpg",
         "0"
        ]
       ],
       "shape": {
        "columns": 1,
        "rows": 5
       }
      },
      "text/plain": [
       "engine_displacement      0\n",
       "horsepower             708\n",
       "vehicle_weight           0\n",
       "model_year               0\n",
       "fuel_efficiency_mpg      0\n",
       "dtype: int64"
      ]
     },
     "execution_count": 180,
     "metadata": {},
     "output_type": "execute_result"
    }
   ],
   "source": [
    "df.isnull().sum()"
   ]
  },
  {
   "cell_type": "code",
   "execution_count": 181,
   "id": "bdc4e39d",
   "metadata": {},
   "outputs": [
    {
     "data": {
      "text/plain": [
       "np.float64(149.0)"
      ]
     },
     "execution_count": 181,
     "metadata": {},
     "output_type": "execute_result"
    }
   ],
   "source": [
    "df.horsepower.median()"
   ]
  },
  {
   "cell_type": "code",
   "execution_count": 182,
   "id": "6b55b306",
   "metadata": {},
   "outputs": [],
   "source": [
    "#Prepare and split the dataset\n",
    "n = len(df)\n",
    "n_val = int(n * 0.2)\n",
    "n_test = int(n * 0.2)\n",
    "n_train = n - (n_val + n_test)"
   ]
  },
  {
   "cell_type": "code",
   "execution_count": 183,
   "id": "77e6f82e",
   "metadata": {},
   "outputs": [
    {
     "data": {
      "text/plain": [
       "True"
      ]
     },
     "execution_count": 183,
     "metadata": {},
     "output_type": "execute_result"
    }
   ],
   "source": [
    "n_test + n_train + n_test == n"
   ]
  },
  {
   "cell_type": "code",
   "execution_count": 184,
   "id": "ee767b81",
   "metadata": {},
   "outputs": [
    {
     "data": {
      "text/plain": [
       "(5824, 1940, 1940)"
      ]
     },
     "execution_count": 184,
     "metadata": {},
     "output_type": "execute_result"
    }
   ],
   "source": [
    "n_train, n_val, n_test"
   ]
  },
  {
   "cell_type": "code",
   "execution_count": 185,
   "id": "862c682e",
   "metadata": {},
   "outputs": [],
   "source": [
    "idx = np.arange(n)"
   ]
  },
  {
   "cell_type": "code",
   "execution_count": 186,
   "id": "5a39ae2e",
   "metadata": {},
   "outputs": [],
   "source": [
    "np.random.seed(42)\n",
    "np.random.shuffle(idx)"
   ]
  },
  {
   "cell_type": "code",
   "execution_count": 187,
   "id": "ae384f46",
   "metadata": {},
   "outputs": [],
   "source": [
    "df_train = df.iloc[idx[:n_train]]\n",
    "df_val = df.iloc[idx[n_train: n_train+n_val]]\n",
    "df_test = df.iloc[idx[n_train+n_val: ]]"
   ]
  },
  {
   "cell_type": "code",
   "execution_count": 188,
   "id": "e6feb277",
   "metadata": {},
   "outputs": [
    {
     "data": {
      "application/vnd.microsoft.datawrangler.viewer.v0+json": {
       "columns": [
        {
         "name": "index",
         "rawType": "int64",
         "type": "integer"
        },
        {
         "name": "engine_displacement",
         "rawType": "int64",
         "type": "integer"
        },
        {
         "name": "horsepower",
         "rawType": "float64",
         "type": "float"
        },
        {
         "name": "vehicle_weight",
         "rawType": "float64",
         "type": "float"
        },
        {
         "name": "model_year",
         "rawType": "int64",
         "type": "integer"
        },
        {
         "name": "fuel_efficiency_mpg",
         "rawType": "float64",
         "type": "float"
        }
       ],
       "ref": "47952652-b4c0-425c-8c23-17bbc6ee71d4",
       "rows": [
        [
         "483",
         "220",
         "144.0",
         "2535.8875912388694",
         "2009",
         "16.642943419221385"
        ],
        [
         "7506",
         "160",
         "141.0",
         "2741.1704843893167",
         "2019",
         "16.298377150953442"
        ],
        [
         "8795",
         "230",
         "155.0",
         "2471.8802372627765",
         "2017",
         "18.59182197290521"
        ],
        [
         "1688",
         "150",
         "206.0",
         "3748.1644685764895",
         "2015",
         "11.818843137349878"
        ],
        [
         "6217",
         "300",
         "111.0",
         "2135.7163589302763",
         "2006",
         "19.40220906398922"
        ],
        [
         "4562",
         "180",
         "120.0",
         "3551.3980401922204",
         "2013",
         "12.145734018334991"
        ],
        [
         "5885",
         "210",
         "118.0",
         "3620.351977047662",
         "2018",
         "11.378399168053075"
        ],
        [
         "3746",
         "150",
         "152.0",
         "2524.407793578531",
         "2012",
         "16.667293571152946"
        ],
        [
         "7109",
         "160",
         "151.0",
         "2752.9642301767863",
         "2009",
         "15.819366524974331"
        ],
        [
         "2698",
         "250",
         "147.0",
         "3202.8565667394287",
         "2020",
         "14.100997654595409"
        ],
        [
         "311",
         "240",
         "159.0",
         "2916.9879208935845",
         "2001",
         "15.06641609689505"
        ],
        [
         "8470",
         "260",
         "173.0",
         "3002.302547233944",
         "2004",
         "15.537398238645798"
        ],
        [
         "5829",
         "210",
         "87.0",
         "2294.460674799408",
         "2012",
         "18.54831901172624"
        ],
        [
         "9606",
         "210",
         "165.0",
         "3494.4583482415137",
         "2009",
         "13.080735661518306"
        ],
        [
         "568",
         "110",
         "164.0",
         "2936.038945820719",
         "2021",
         "16.348820707049825"
        ],
        [
         "4129",
         "140",
         "107.0",
         "1832.6497731247875",
         "2012",
         "20.485269672921348"
        ],
        [
         "7925",
         "240",
         "105.0",
         "3689.197182864608",
         "2007",
         "11.512208186129758"
        ],
        [
         "8936",
         "290",
         "166.0",
         "3105.849902735137",
         "2016",
         "14.294791550631883"
        ],
        [
         "6618",
         "250",
         "206.0",
         "3073.3958045207905",
         "2004",
         "15.87083938733058"
        ],
        [
         "2997",
         "300",
         null,
         "3217.664208335019",
         "2000",
         "14.07246882738959"
        ],
        [
         "5617",
         "160",
         "184.0",
         "2733.2694413319136",
         "2007",
         "16.116958787905645"
        ],
        [
         "7361",
         "200",
         "146.0",
         "3043.0361909129097",
         "2016",
         "14.756433382903449"
        ],
        [
         "5244",
         "250",
         "123.0",
         "2963.1674707649813",
         "2014",
         "15.540816021256305"
        ],
        [
         "349",
         "200",
         "145.0",
         "2837.4042846811744",
         "2022",
         "16.083240768040447"
        ],
        [
         "2122",
         "190",
         "128.0",
         "3758.8099943509305",
         "2002",
         "10.080626563714144"
        ],
        [
         "5351",
         "140",
         "130.0",
         "2657.011389361136",
         "2005",
         "16.743850177574632"
        ],
        [
         "346",
         "150",
         "167.0",
         "2583.754263653306",
         "2004",
         "16.700828973991218"
        ],
        [
         "3154",
         "160",
         "158.0",
         "2942.1034008369184",
         "2007",
         "14.895357895171204"
        ],
        [
         "8935",
         "80",
         "100.0",
         "3552.574832987632",
         "2015",
         "12.629544986141829"
        ],
        [
         "7364",
         "200",
         null,
         "3090.672180205485",
         "2007",
         "14.326763529854782"
        ],
        [
         "2894",
         "240",
         "143.0",
         "2873.7551176388884",
         "2011",
         "16.481404889875016"
        ],
        [
         "2335",
         "130",
         "184.0",
         "1802.4450159073824",
         "2008",
         "21.906908211990757"
        ],
        [
         "4241",
         "270",
         null,
         "2819.0613069539177",
         "2016",
         "16.371332404034373"
        ],
        [
         "5768",
         "140",
         "147.0",
         "2376.622007765884",
         "2018",
         "18.12941229345393"
        ],
        [
         "5552",
         "170",
         "163.0",
         "2277.0196104009324",
         "2006",
         "19.30903650985"
        ],
        [
         "7606",
         "200",
         "140.0",
         "3626.632799902613",
         "2009",
         "11.903723947499596"
        ],
        [
         "5587",
         "200",
         "183.0",
         "2463.5798220564698",
         "2009",
         "17.329506714709723"
        ],
        [
         "1864",
         "230",
         "138.0",
         "3070.41596498856",
         "2023",
         "14.807426311155872"
        ],
        [
         "6925",
         "260",
         "175.0",
         "3049.967261964372",
         "2018",
         "15.318445053973369"
        ],
        [
         "39",
         "240",
         "176.0",
         "2676.886843633655",
         "2002",
         "17.322851581349216"
        ],
        [
         "1918",
         "190",
         "187.0",
         "2768.306124853432",
         "2011",
         "16.7395753849415"
        ],
        [
         "8371",
         "170",
         "133.0",
         "2920.0603333914496",
         "2003",
         "15.42719086439622"
        ],
        [
         "932",
         "250",
         "223.0",
         "3273.1826621063365",
         "2013",
         "13.103039273769475"
        ],
        [
         "5633",
         "210",
         "120.0",
         "1864.448914765373",
         "2016",
         "20.20864062495165"
        ],
        [
         "6790",
         "150",
         "178.0",
         "2445.782142543571",
         "2016",
         "18.34159348292096"
        ],
        [
         "6463",
         "230",
         "141.0",
         "2216.81029249578",
         "2002",
         "18.87308595562625"
        ],
        [
         "7919",
         "200",
         "152.0",
         "2584.454655887415",
         "2020",
         "16.392794888691448"
        ],
        [
         "1418",
         "190",
         "199.0",
         "2970.785579699682",
         "2021",
         "15.295008726152313"
        ],
        [
         "8449",
         "220",
         "129.0",
         "3672.4104967125977",
         "2005",
         "11.730970312145551"
        ],
        [
         "5012",
         "170",
         "172.0",
         "3558.6996614378395",
         "2011",
         "12.349030268213667"
        ]
       ],
       "shape": {
        "columns": 5,
        "rows": 5824
       }
      },
      "text/html": [
       "<div>\n",
       "<style scoped>\n",
       "    .dataframe tbody tr th:only-of-type {\n",
       "        vertical-align: middle;\n",
       "    }\n",
       "\n",
       "    .dataframe tbody tr th {\n",
       "        vertical-align: top;\n",
       "    }\n",
       "\n",
       "    .dataframe thead th {\n",
       "        text-align: right;\n",
       "    }\n",
       "</style>\n",
       "<table border=\"1\" class=\"dataframe\">\n",
       "  <thead>\n",
       "    <tr style=\"text-align: right;\">\n",
       "      <th></th>\n",
       "      <th>engine_displacement</th>\n",
       "      <th>horsepower</th>\n",
       "      <th>vehicle_weight</th>\n",
       "      <th>model_year</th>\n",
       "      <th>fuel_efficiency_mpg</th>\n",
       "    </tr>\n",
       "  </thead>\n",
       "  <tbody>\n",
       "    <tr>\n",
       "      <th>483</th>\n",
       "      <td>220</td>\n",
       "      <td>144.0</td>\n",
       "      <td>2535.887591</td>\n",
       "      <td>2009</td>\n",
       "      <td>16.642943</td>\n",
       "    </tr>\n",
       "    <tr>\n",
       "      <th>7506</th>\n",
       "      <td>160</td>\n",
       "      <td>141.0</td>\n",
       "      <td>2741.170484</td>\n",
       "      <td>2019</td>\n",
       "      <td>16.298377</td>\n",
       "    </tr>\n",
       "    <tr>\n",
       "      <th>8795</th>\n",
       "      <td>230</td>\n",
       "      <td>155.0</td>\n",
       "      <td>2471.880237</td>\n",
       "      <td>2017</td>\n",
       "      <td>18.591822</td>\n",
       "    </tr>\n",
       "    <tr>\n",
       "      <th>1688</th>\n",
       "      <td>150</td>\n",
       "      <td>206.0</td>\n",
       "      <td>3748.164469</td>\n",
       "      <td>2015</td>\n",
       "      <td>11.818843</td>\n",
       "    </tr>\n",
       "    <tr>\n",
       "      <th>6217</th>\n",
       "      <td>300</td>\n",
       "      <td>111.0</td>\n",
       "      <td>2135.716359</td>\n",
       "      <td>2006</td>\n",
       "      <td>19.402209</td>\n",
       "    </tr>\n",
       "    <tr>\n",
       "      <th>...</th>\n",
       "      <td>...</td>\n",
       "      <td>...</td>\n",
       "      <td>...</td>\n",
       "      <td>...</td>\n",
       "      <td>...</td>\n",
       "    </tr>\n",
       "    <tr>\n",
       "      <th>1696</th>\n",
       "      <td>260</td>\n",
       "      <td>139.0</td>\n",
       "      <td>2606.972984</td>\n",
       "      <td>2009</td>\n",
       "      <td>16.964054</td>\n",
       "    </tr>\n",
       "    <tr>\n",
       "      <th>5685</th>\n",
       "      <td>280</td>\n",
       "      <td>132.0</td>\n",
       "      <td>4004.214323</td>\n",
       "      <td>2014</td>\n",
       "      <td>10.059094</td>\n",
       "    </tr>\n",
       "    <tr>\n",
       "      <th>6735</th>\n",
       "      <td>210</td>\n",
       "      <td>152.0</td>\n",
       "      <td>2500.175687</td>\n",
       "      <td>2020</td>\n",
       "      <td>17.593237</td>\n",
       "    </tr>\n",
       "    <tr>\n",
       "      <th>2052</th>\n",
       "      <td>250</td>\n",
       "      <td>154.0</td>\n",
       "      <td>2254.313245</td>\n",
       "      <td>2002</td>\n",
       "      <td>18.925748</td>\n",
       "    </tr>\n",
       "    <tr>\n",
       "      <th>1776</th>\n",
       "      <td>210</td>\n",
       "      <td>152.0</td>\n",
       "      <td>2435.203606</td>\n",
       "      <td>2004</td>\n",
       "      <td>17.965284</td>\n",
       "    </tr>\n",
       "  </tbody>\n",
       "</table>\n",
       "<p>5824 rows × 5 columns</p>\n",
       "</div>"
      ],
      "text/plain": [
       "      engine_displacement  horsepower  vehicle_weight  model_year  \\\n",
       "483                   220       144.0     2535.887591        2009   \n",
       "7506                  160       141.0     2741.170484        2019   \n",
       "8795                  230       155.0     2471.880237        2017   \n",
       "1688                  150       206.0     3748.164469        2015   \n",
       "6217                  300       111.0     2135.716359        2006   \n",
       "...                   ...         ...             ...         ...   \n",
       "1696                  260       139.0     2606.972984        2009   \n",
       "5685                  280       132.0     4004.214323        2014   \n",
       "6735                  210       152.0     2500.175687        2020   \n",
       "2052                  250       154.0     2254.313245        2002   \n",
       "1776                  210       152.0     2435.203606        2004   \n",
       "\n",
       "      fuel_efficiency_mpg  \n",
       "483             16.642943  \n",
       "7506            16.298377  \n",
       "8795            18.591822  \n",
       "1688            11.818843  \n",
       "6217            19.402209  \n",
       "...                   ...  \n",
       "1696            16.964054  \n",
       "5685            10.059094  \n",
       "6735            17.593237  \n",
       "2052            18.925748  \n",
       "1776            17.965284  \n",
       "\n",
       "[5824 rows x 5 columns]"
      ]
     },
     "execution_count": 188,
     "metadata": {},
     "output_type": "execute_result"
    }
   ],
   "source": [
    "df_train"
   ]
  },
  {
   "cell_type": "code",
   "execution_count": 189,
   "id": "3221111b",
   "metadata": {},
   "outputs": [],
   "source": [
    "y_train = df_train.fuel_efficiency_mpg\n",
    "y_test = df_test.fuel_efficiency_mpg\n",
    "y_val = df_val.fuel_efficiency_mpg"
   ]
  },
  {
   "cell_type": "code",
   "execution_count": 190,
   "id": "d9e3fdb0",
   "metadata": {},
   "outputs": [],
   "source": [
    "del df_train['fuel_efficiency_mpg']\n",
    "del df_test['fuel_efficiency_mpg']\n",
    "del df_val['fuel_efficiency_mpg']"
   ]
  },
  {
   "cell_type": "code",
   "execution_count": 191,
   "id": "e808242e",
   "metadata": {},
   "outputs": [],
   "source": [
    "df_train_0 = df_train\n",
    "df_train_0 = df_train_0.fillna(0)\n",
    "df_train_mean = df_train\n",
    "df_train_mean = df_train_0.fillna(df_train['horsepower'].mean())\n",
    "\n"
   ]
  },
  {
   "cell_type": "code",
   "execution_count": 228,
   "id": "f272d510",
   "metadata": {},
   "outputs": [],
   "source": [
    "def LinearRegression(X, y):\n",
    "    ones = np.ones(X.shape[0])\n",
    "    X = np.column_stack([ones, X])\n",
    "    XTX = X.T.dot(X)\n",
    "    XTX_inv = np.linalg.inv(XTX)\n",
    "    XTX.dot(XTX_inv)\n",
    "    w_full = XTX_inv.dot(X.T).dot(y)\n",
    "    return w_full[0], w_full[1:]\n"
   ]
  },
  {
   "cell_type": "code",
   "execution_count": 193,
   "id": "1f395290",
   "metadata": {},
   "outputs": [],
   "source": [
    "base = ['engine_displacement','horsepower','vehicle_weight','model_year']"
   ]
  },
  {
   "cell_type": "code",
   "execution_count": 195,
   "id": "63f2d8a1",
   "metadata": {},
   "outputs": [],
   "source": [
    "def rmse(y, y_pred):\n",
    "    error = y - y_pred\n",
    "    sq = error**2\n",
    "    mse = sq.mean()\n",
    "    return np.sqrt(mse)"
   ]
  },
  {
   "cell_type": "code",
   "execution_count": 196,
   "id": "29026922",
   "metadata": {},
   "outputs": [
    {
     "data": {
      "text/plain": [
       "(np.float64(28.827365474598718),\n",
       " array([ 9.93613218e-05,  3.54221891e-03, -5.01328015e-03,  3.42992869e-04]))"
      ]
     },
     "execution_count": 196,
     "metadata": {},
     "output_type": "execute_result"
    }
   ],
   "source": [
    "# انا بدرب علي ال train علشانن اجيب ال w0, w و ب test علي ال val علشان اجيب ypred\n",
    "X_train_zeros = df_train_0.values\n",
    "X_val_zeros = df_val[base].fillna(0).values\n",
    "\n",
    "w0, w = LinearRegression(X_train_zeros, y_train)\n",
    "w0, w"
   ]
  },
  {
   "cell_type": "code",
   "execution_count": 202,
   "id": "972b60b1",
   "metadata": {},
   "outputs": [],
   "source": [
    "y_pred = X_val_zeros.dot(w) + w0"
   ]
  },
  {
   "cell_type": "code",
   "execution_count": 198,
   "id": "828aba13",
   "metadata": {},
   "outputs": [
    {
     "data": {
      "text/plain": [
       "np.float64(0.5173782638841185)"
      ]
     },
     "execution_count": 198,
     "metadata": {},
     "output_type": "execute_result"
    }
   ],
   "source": [
    "score = rmse(y_val, y_pred)\n",
    "score"
   ]
  },
  {
   "cell_type": "code",
   "execution_count": 199,
   "id": "0c68aa94",
   "metadata": {},
   "outputs": [
    {
     "data": {
      "text/plain": [
       "(np.float64(28.827365474598718),\n",
       " array([ 9.93613218e-05,  3.54221891e-03, -5.01328015e-03,  3.42992869e-04]))"
      ]
     },
     "execution_count": 199,
     "metadata": {},
     "output_type": "execute_result"
    }
   ],
   "source": [
    "X_train_mean = df_train_mean.values\n",
    "X_val_mean = df_val[base].fillna(df_train['horsepower'].mean()).values\n",
    "\n",
    "w0, w = LinearRegression(X_train_mean, y_train)\n",
    "w0, w"
   ]
  },
  {
   "cell_type": "code",
   "execution_count": 200,
   "id": "53344777",
   "metadata": {},
   "outputs": [
    {
     "data": {
      "text/plain": [
       "array([16.0373382 , 14.92522236, 11.86445895, ..., 13.69560868,\n",
       "       13.62575126, 16.44936805], shape=(1940,))"
      ]
     },
     "execution_count": 200,
     "metadata": {},
     "output_type": "execute_result"
    }
   ],
   "source": [
    "y_pred = X_val_mean.dot(w) + w0\n",
    "y_pred"
   ]
  },
  {
   "cell_type": "code",
   "execution_count": 201,
   "id": "703e8d92",
   "metadata": {},
   "outputs": [
    {
     "data": {
      "text/plain": [
       "np.float64(0.503380914326431)"
      ]
     },
     "execution_count": 201,
     "metadata": {},
     "output_type": "execute_result"
    }
   ],
   "source": [
    "score = rmse(y_val, y_pred)\n",
    "score"
   ]
  },
  {
   "cell_type": "code",
   "execution_count": 214,
   "id": "c3f2b431",
   "metadata": {},
   "outputs": [
    {
     "data": {
      "text/plain": [
       "<Axes: xlabel='fuel_efficiency_mpg', ylabel='Count'>"
      ]
     },
     "execution_count": 214,
     "metadata": {},
     "output_type": "execute_result"
    },
    {
     "data": {
      "image/png": "[encoded data removed]",
      "text/plain": [
       "<Figure size 640x480 with 1 Axes>"
      ]
     },
     "metadata": {},
     "output_type": "display_data"
    }
   ],
   "source": [
    "sns.histplot(y_pred, alpha = 0.5, bins= 50, color= 'skyblue')\n",
    "sns.histplot(y_val, alpha = 0.2, bins=50, color= 'green')"
   ]
  },
  {
   "cell_type": "code",
   "execution_count": 216,
   "id": "eeed859f",
   "metadata": {},
   "outputs": [],
   "source": [
    "list = [0, 0.01, 0.1, 1, 5, 10, 100]"
   ]
  },
  {
   "cell_type": "markdown",
   "id": "732edc5d",
   "metadata": {},
   "source": [
    "# linear regression with regularization "
   ]
  },
  {
   "cell_type": "code",
   "execution_count": 217,
   "id": "b4e4d530",
   "metadata": {},
   "outputs": [],
   "source": [
    "def LinearRegression_reg(X, y, r):\n",
    "    ## add ones to the matrix X: w\n",
    "    ones = np.ones(X.shape[0])\n",
    "    X = np.column_stack([ones, X])\n",
    "    \n",
    "    #linear regression formula\n",
    "    XTX = X.T.dot(X)\n",
    "    XTX = XTX + np.eye(XTX.shape[0])* r\n",
    "\n",
    "    XTX_inv = np.linalg.inv(XTX)\n",
    "    w_full = XTX_inv.dot(X.T).dot(y)\n",
    "\n",
    "    #returning the 'w0', 'w' as an array\n",
    "    return w_full[0], w_full[1:]\n"
   ]
  },
  {
   "cell_type": "code",
   "execution_count": 219,
   "id": "1fd25c49",
   "metadata": {},
   "outputs": [
    {
     "name": "stdout",
     "output_type": "stream",
     "text": [
      "28.827365474598718 [ 9.93613218e-05  3.54221891e-03 -5.01328015e-03  3.42992869e-04]\n",
      "0.5173782638841185\n",
      "0.52\n",
      " \n",
      "24.926838421084422 [ 0.00010643  0.0035422  -0.00501248  0.00228024]\n",
      "0.5171115525775559\n",
      "0.52\n",
      " \n",
      "11.239661085047366 [ 0.00013125  0.00354212 -0.00500966  0.00907815]\n",
      "0.5187525130701629\n",
      "0.52\n",
      " \n",
      "1.7315979412398264 [ 0.00014849  0.00354207 -0.00500771  0.01380046]\n",
      "0.5222348802092528\n",
      "0.52\n",
      " \n",
      "0.36380750207153073 [ 0.00015098  0.00354206 -0.00500743  0.01447979]\n",
      "0.5228916092823455\n",
      "0.52\n",
      " \n",
      "0.18306246622476907 [ 0.0001513   0.00354206 -0.00500739  0.01456956]\n",
      "0.5229812979636569\n",
      "0.52\n",
      " \n",
      "0.01841801730804525 [ 0.00015161  0.00354204 -0.00500736  0.01465133]\n",
      "0.5230636233819926\n",
      "0.52\n",
      " \n"
     ]
    }
   ],
   "source": [
    "#trying different r's to find the best value\n",
    "X_train_zeros = df_train_0.values\n",
    "X_val_zeros = df_val[base].fillna(0).values\n",
    "\n",
    "for r in list: \n",
    "    w0, w = LinearRegression_reg(X_train_zeros, y_train, r)\n",
    "    y_pred = X_val_zeros.dot(w)+ w0\n",
    "    score = rmse(y_val, y_pred)\n",
    "    print(w0, w)\n",
    "    print(score)\n",
    "    print(round(score, 2))\n",
    "    print (' ')\n",
    "    \n"
   ]
  },
  {
   "cell_type": "code",
   "execution_count": 223,
   "id": "2a646654",
   "metadata": {},
   "outputs": [
    {
     "data": {
      "text/plain": [
       "(9704, 5824, 1940, 1940)"
      ]
     },
     "execution_count": 223,
     "metadata": {},
     "output_type": "execute_result"
    }
   ],
   "source": [
    "# trying different seeds to see how it affects the result \n",
    "n, n_train, n_val, n_test"
   ]
  },
  {
   "cell_type": "code",
   "execution_count": 235,
   "id": "034d5db3",
   "metadata": {},
   "outputs": [
    {
     "data": {
      "text/plain": [
       "np.float64(0.007)"
      ]
     },
     "execution_count": 235,
     "metadata": {},
     "output_type": "execute_result"
    }
   ],
   "source": [
    "scores = []\n",
    "seeds = [0, 1, 2, 3, 4, 5, 6, 7, 8, 9]\n",
    "for seed in seeds:\n",
    "    idx = np.arange(n)\n",
    "    np.random.seed(seed)\n",
    "    np.random.shuffle(idx)\n",
    "    df_train = df.iloc[idx[: n_train]]\n",
    "    df_val = df.iloc[idx[n_train : n_train+ n_val]]\n",
    "    df_test = df.iloc[idx[n_train+n_val: ]]\n",
    "    y_train = df_train.fuel_efficiency_mpg.values\n",
    "    y_val = df_val.fuel_efficiency_mpg.values\n",
    "    y_test = df_test.fuel_efficiency_mpg.values\n",
    "    del df_train['fuel_efficiency_mpg']\n",
    "    del df_val['fuel_efficiency_mpg']\n",
    "    del df_test['fuel_efficiency_mpg']\n",
    "    X_train = df_train[base].fillna(0).values\n",
    "    X_val = df_val[base].fillna(0).values\n",
    "    w0, w = LinearRegression(X_train, y_train)\n",
    "    y_pred = X_val.dot(w)+ w0\n",
    "    score = rmse(y_val, y_pred)\n",
    "    scores.append(score)\n",
    "round(np.std(scores), 3)\n",
    "    "
   ]
  },
  {
   "cell_type": "markdown",
   "id": "6a73acb4",
   "metadata": {},
   "source": [
    "# Final Caluclation with 'seed' 9 and 'r' '0.001'\n"
   ]
  },
  {
   "cell_type": "code",
   "execution_count": 240,
   "id": "9f95f920",
   "metadata": {},
   "outputs": [
    {
     "data": {
      "text/plain": [
       "(9704, 5824, 1940, 1940)"
      ]
     },
     "execution_count": 240,
     "metadata": {},
     "output_type": "execute_result"
    }
   ],
   "source": [
    "seed = 9\n",
    "r = 0.001\n",
    "n, n_train, n_val, n_test"
   ]
  },
  {
   "cell_type": "code",
   "execution_count": 241,
   "id": "78877d3c",
   "metadata": {},
   "outputs": [],
   "source": [
    "idx = np.arange(n)\n",
    "np.random.seed(9)\n",
    "np.random.shuffle(idx)\n",
    "df_full_train = df.iloc[idx[: n_train+n_val]]\n",
    "df_test = df.iloc[idx[n_train+n_val: ]]\n",
    "y_train = df_full_train.fuel_efficiency_mpg.values\n",
    "y_test = df_test.fuel_efficiency_mpg.values\n",
    "del df_full_train['fuel_efficiency_mpg']\n",
    "del df_test['fuel_efficiency_mpg']\n"
   ]
  },
  {
   "cell_type": "code",
   "execution_count": 245,
   "id": "117421ef",
   "metadata": {},
   "outputs": [
    {
     "data": {
      "text/plain": [
       "7764"
      ]
     },
     "execution_count": 245,
     "metadata": {},
     "output_type": "execute_result"
    }
   ],
   "source": [
    "n_train + n_val"
   ]
  },
  {
   "cell_type": "code",
   "execution_count": 248,
   "id": "80f5265c",
   "metadata": {},
   "outputs": [
    {
     "data": {
      "text/plain": [
       "(7764, 7764, 1940, 1940)"
      ]
     },
     "execution_count": 248,
     "metadata": {},
     "output_type": "execute_result"
    }
   ],
   "source": [
    "len(df_full_train), len(y_train), len(df_test), len(y_test)"
   ]
  },
  {
   "cell_type": "code",
   "execution_count": 246,
   "id": "f9c6de0b",
   "metadata": {},
   "outputs": [
    {
     "data": {
      "application/vnd.microsoft.datawrangler.viewer.v0+json": {
       "columns": [
        {
         "name": "index",
         "rawType": "int64",
         "type": "integer"
        },
        {
         "name": "engine_displacement",
         "rawType": "int64",
         "type": "integer"
        },
        {
         "name": "horsepower",
         "rawType": "float64",
         "type": "float"
        },
        {
         "name": "vehicle_weight",
         "rawType": "float64",
         "type": "float"
        },
        {
         "name": "model_year",
         "rawType": "int64",
         "type": "integer"
        }
       ],
       "ref": "b3290659-efdb-4a65-b408-8a823e9108fc",
       "rows": [
        [
         "9066",
         "240",
         "136.0",
         "4050.5122895707536",
         "2006"
        ],
        [
         "3073",
         "190",
         "141.0",
         "3195.8669415834306",
         "2017"
        ],
        [
         "2476",
         "200",
         "184.0",
         "3006.164369681861",
         "2017"
        ],
        [
         "658",
         "200",
         null,
         "2947.143980322281",
         "2022"
        ],
        [
         "954",
         "250",
         "132.0",
         "3114.3719779552243",
         "2001"
        ],
        [
         "8441",
         "200",
         "128.0",
         "2426.957609510563",
         "2006"
        ],
        [
         "8307",
         "190",
         "128.0",
         "3080.383878241212",
         "2023"
        ],
        [
         "6788",
         "130",
         "178.0",
         "3641.7441913507114",
         "2010"
        ],
        [
         "8988",
         "120",
         "157.0",
         "3018.5214238379",
         "2006"
        ],
        [
         "7457",
         "190",
         "169.0",
         "3025.887363830009",
         "2017"
        ],
        [
         "8140",
         "130",
         null,
         "2087.192105375307",
         "2008"
        ],
        [
         "2635",
         "160",
         "167.0",
         "4026.6969339384623",
         "2011"
        ],
        [
         "9512",
         "140",
         "109.0",
         "2817.206539524288",
         "2003"
        ],
        [
         "7514",
         "320",
         "132.0",
         "2572.315442667493",
         "2021"
        ],
        [
         "2844",
         "190",
         "165.0",
         "2035.1474698037405",
         "2005"
        ],
        [
         "8873",
         "170",
         "200.0",
         "3404.582552425505",
         "2023"
        ],
        [
         "3320",
         "290",
         "162.0",
         "2625.1456938074257",
         "2004"
        ],
        [
         "2952",
         "180",
         "160.0",
         "3499.4750052085824",
         "2013"
        ],
        [
         "4367",
         "190",
         "147.0",
         "2348.797557271285",
         "2006"
        ],
        [
         "2225",
         "280",
         "144.0",
         "3031.436130188313",
         "2014"
        ],
        [
         "4630",
         "310",
         "132.0",
         "2121.470254292444",
         "2004"
        ],
        [
         "8533",
         "270",
         "127.0",
         "3289.609764827081",
         "2020"
        ],
        [
         "6474",
         "200",
         "164.0",
         "3196.269981620835",
         "2020"
        ],
        [
         "1518",
         "130",
         "118.0",
         "2906.2857664526878",
         "2018"
        ],
        [
         "8697",
         "210",
         "143.0",
         "2441.496241864477",
         "2003"
        ],
        [
         "8254",
         "140",
         "225.0",
         "3846.125343602924",
         "2020"
        ],
        [
         "8321",
         "190",
         "148.0",
         "3323.819061215165",
         "2005"
        ],
        [
         "6092",
         "160",
         "128.0",
         "3284.570709573435",
         "2011"
        ],
        [
         "8590",
         "230",
         "184.0",
         "3068.942278501571",
         "2010"
        ],
        [
         "3648",
         "150",
         "149.0",
         "2367.817227200094",
         "2003"
        ],
        [
         "3719",
         "190",
         "125.0",
         "2876.552704724119",
         "2001"
        ],
        [
         "1105",
         "260",
         "125.0",
         "2642.3241801041404",
         "2012"
        ],
        [
         "8794",
         "230",
         "157.0",
         "2439.764272985089",
         "2006"
        ],
        [
         "5045",
         "210",
         "161.0",
         "3379.799085549688",
         "2019"
        ],
        [
         "595",
         "150",
         "155.0",
         "2524.894899767022",
         "2018"
        ],
        [
         "7711",
         "200",
         null,
         "2619.896609889136",
         "2017"
        ],
        [
         "4192",
         "160",
         null,
         "2981.866055248001",
         "2019"
        ],
        [
         "2072",
         "200",
         "152.0",
         "3500.1607747454104",
         "2017"
        ],
        [
         "9003",
         "200",
         "148.0",
         "2134.556711874116",
         "2017"
        ],
        [
         "9085",
         "220",
         "163.0",
         "2596.1813828820345",
         "2000"
        ],
        [
         "4149",
         "230",
         "124.0",
         "3381.2245794254923",
         "2000"
        ],
        [
         "642",
         "100",
         "145.0",
         "2437.3728394600894",
         "2008"
        ],
        [
         "58",
         "230",
         "103.0",
         "2496.5486592559587",
         "2019"
        ],
        [
         "7290",
         "260",
         "176.0",
         "3198.040750080437",
         "2006"
        ],
        [
         "1706",
         "160",
         "155.0",
         "2773.265064356561",
         "2015"
        ],
        [
         "9363",
         "270",
         "128.0",
         "2993.6251230414696",
         "2015"
        ],
        [
         "2291",
         "190",
         "190.0",
         "3494.502842330031",
         "2011"
        ],
        [
         "5076",
         "190",
         "148.0",
         "2801.096882337446",
         "2018"
        ],
        [
         "2279",
         "210",
         "209.0",
         "3014.2516226884645",
         "2002"
        ],
        [
         "3402",
         "210",
         "141.0",
         "3631.288732117183",
         "2010"
        ]
       ],
       "shape": {
        "columns": 4,
        "rows": 7764
       }
      },
      "text/html": [
       "<div>\n",
       "<style scoped>\n",
       "    .dataframe tbody tr th:only-of-type {\n",
       "        vertical-align: middle;\n",
       "    }\n",
       "\n",
       "    .dataframe tbody tr th {\n",
       "        vertical-align: top;\n",
       "    }\n",
       "\n",
       "    .dataframe thead th {\n",
       "        text-align: right;\n",
       "    }\n",
       "</style>\n",
       "<table border=\"1\" class=\"dataframe\">\n",
       "  <thead>\n",
       "    <tr style=\"text-align: right;\">\n",
       "      <th></th>\n",
       "      <th>engine_displacement</th>\n",
       "      <th>horsepower</th>\n",
       "      <th>vehicle_weight</th>\n",
       "      <th>model_year</th>\n",
       "    </tr>\n",
       "  </thead>\n",
       "  <tbody>\n",
       "    <tr>\n",
       "      <th>9066</th>\n",
       "      <td>240</td>\n",
       "      <td>136.0</td>\n",
       "      <td>4050.512290</td>\n",
       "      <td>2006</td>\n",
       "    </tr>\n",
       "    <tr>\n",
       "      <th>3073</th>\n",
       "      <td>190</td>\n",
       "      <td>141.0</td>\n",
       "      <td>3195.866942</td>\n",
       "      <td>2017</td>\n",
       "    </tr>\n",
       "    <tr>\n",
       "      <th>2476</th>\n",
       "      <td>200</td>\n",
       "      <td>184.0</td>\n",
       "      <td>3006.164370</td>\n",
       "      <td>2017</td>\n",
       "    </tr>\n",
       "    <tr>\n",
       "      <th>658</th>\n",
       "      <td>200</td>\n",
       "      <td>NaN</td>\n",
       "      <td>2947.143980</td>\n",
       "      <td>2022</td>\n",
       "    </tr>\n",
       "    <tr>\n",
       "      <th>954</th>\n",
       "      <td>250</td>\n",
       "      <td>132.0</td>\n",
       "      <td>3114.371978</td>\n",
       "      <td>2001</td>\n",
       "    </tr>\n",
       "    <tr>\n",
       "      <th>...</th>\n",
       "      <td>...</td>\n",
       "      <td>...</td>\n",
       "      <td>...</td>\n",
       "      <td>...</td>\n",
       "    </tr>\n",
       "    <tr>\n",
       "      <th>8083</th>\n",
       "      <td>200</td>\n",
       "      <td>167.0</td>\n",
       "      <td>3470.715658</td>\n",
       "      <td>2003</td>\n",
       "    </tr>\n",
       "    <tr>\n",
       "      <th>6182</th>\n",
       "      <td>180</td>\n",
       "      <td>144.0</td>\n",
       "      <td>3605.310144</td>\n",
       "      <td>2016</td>\n",
       "    </tr>\n",
       "    <tr>\n",
       "      <th>3886</th>\n",
       "      <td>180</td>\n",
       "      <td>154.0</td>\n",
       "      <td>3346.965671</td>\n",
       "      <td>2018</td>\n",
       "    </tr>\n",
       "    <tr>\n",
       "      <th>6735</th>\n",
       "      <td>210</td>\n",
       "      <td>152.0</td>\n",
       "      <td>2500.175687</td>\n",
       "      <td>2020</td>\n",
       "    </tr>\n",
       "    <tr>\n",
       "      <th>495</th>\n",
       "      <td>260</td>\n",
       "      <td>174.0</td>\n",
       "      <td>2702.257301</td>\n",
       "      <td>2011</td>\n",
       "    </tr>\n",
       "  </tbody>\n",
       "</table>\n",
       "<p>7764 rows × 4 columns</p>\n",
       "</div>"
      ],
      "text/plain": [
       "      engine_displacement  horsepower  vehicle_weight  model_year\n",
       "9066                  240       136.0     4050.512290        2006\n",
       "3073                  190       141.0     3195.866942        2017\n",
       "2476                  200       184.0     3006.164370        2017\n",
       "658                   200         NaN     2947.143980        2022\n",
       "954                   250       132.0     3114.371978        2001\n",
       "...                   ...         ...             ...         ...\n",
       "8083                  200       167.0     3470.715658        2003\n",
       "6182                  180       144.0     3605.310144        2016\n",
       "3886                  180       154.0     3346.965671        2018\n",
       "6735                  210       152.0     2500.175687        2020\n",
       "495                   260       174.0     2702.257301        2011\n",
       "\n",
       "[7764 rows x 4 columns]"
      ]
     },
     "execution_count": 246,
     "metadata": {},
     "output_type": "execute_result"
    }
   ],
   "source": [
    "df_full_train"
   ]
  },
  {
   "cell_type": "code",
   "execution_count": 256,
   "id": "1b55b8e2",
   "metadata": {},
   "outputs": [],
   "source": [
    "X_full_train = df_full_train.fillna(0)\n",
    "X_test = df_test.fillna(0)"
   ]
  },
  {
   "cell_type": "code",
   "execution_count": 261,
   "id": "7d14f70d",
   "metadata": {},
   "outputs": [],
   "source": [
    "w0, w = LinearRegression_reg(X_full_train, y_train, r)\n",
    "y_pred = X_test.dot(w) + w0"
   ]
  },
  {
   "cell_type": "code",
   "execution_count": 262,
   "id": "3f6643ca",
   "metadata": {},
   "outputs": [
    {
     "data": {
      "text/plain": [
       "np.float64(0.5156261299185628)"
      ]
     },
     "execution_count": 262,
     "metadata": {},
     "output_type": "execute_result"
    }
   ],
   "source": [
    "score = rmse(y_test , y_pred)\n",
    "score"
   ]
  }
 ],
 "metadata": {
  "kernelspec": {
   "display_name": "Python 3",
   "language": "python",
   "name": "python3"
  },
  "language_info": {
   "codemirror_mode": {
    "name": "ipython",
    "version": 3
   },
   "file_extension": ".py",
   "mimetype": "text/x-python",
   "name": "python",
   "nbconvert_exporter": "python",
   "pygments_lexer": "ipython3",
   "version": "3.13.7"
  }
 },
 "nbformat": 4,
 "nbformat_minor": 5
}
